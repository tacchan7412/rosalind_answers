{
 "cells": [
  {
   "cell_type": "markdown",
   "metadata": {},
   "source": [
    "# Counting DNA Nucleotides"
   ]
  },
  {
   "cell_type": "code",
   "execution_count": null,
   "metadata": {
    "collapsed": false
   },
   "outputs": [],
   "source": [
    "# by myself\n",
    "a_cnt, c_cnt, g_cnt, t_cnt = 0,0,0,0\n",
    "with open('../data/rosalind_dna.txt', 'r') as f:\n",
    "    dna = f.read()\n",
    "    for letter in dna:\n",
    "        if letter == 'A':\n",
    "            a_cnt+=1\n",
    "        elif letter == 'C':\n",
    "            c_cnt+=1\n",
    "        elif letter == 'G':\n",
    "            g_cnt+=1\n",
    "        elif letter == 'T':\n",
    "            t_cnt+=1\n",
    "                \n",
    "print(a_cnt, c_cnt, g_cnt, t_cnt)"
   ]
  },
  {
   "cell_type": "markdown",
   "metadata": {},
   "source": [
    "# Transcribing DNA into RNA"
   ]
  },
  {
   "cell_type": "code",
   "execution_count": null,
   "metadata": {
    "collapsed": false
   },
   "outputs": [],
   "source": [
    "# by myself\n",
    "rna = ''\n",
    "with open('../data/rosalind_rna.txt', 'r') as f:\n",
    "    dna = f.read()\n",
    "    rna = dna.replace('T', 'U')\n",
    "\n",
    "print(rna)"
   ]
  },
  {
   "cell_type": "markdown",
   "metadata": {
    "collapsed": true
   },
   "source": [
    "# Complementing a Strand of DNA"
   ]
  },
  {
   "cell_type": "code",
   "execution_count": null,
   "metadata": {
    "collapsed": false
   },
   "outputs": [],
   "source": [
    "# by myself\n",
    "reverse_complement = ''\n",
    "with open('../data/rosalind_revc.txt', 'r') as f:\n",
    "    dna = f.read()\n",
    "    reverse_complement = dna[::-1].translate(str.maketrans('ATGC', 'TACG'))\n",
    "    \n",
    "print(reverse_complement)"
   ]
  },
  {
   "cell_type": "markdown",
   "metadata": {
    "collapsed": true
   },
   "source": [
    "# Rabbits and Recurrence Relations"
   ]
  },
  {
   "cell_type": "code",
   "execution_count": null,
   "metadata": {
    "collapsed": false
   },
   "outputs": [],
   "source": [
    "# by myself\n",
    "# 1: a pair of 2 children -> 1\n",
    "# 2: a pair of 2 adults -> 1\n",
    "# 3: a pair of 2 adults and k pair of 2 children -> k+1\n",
    "# ...\n",
    "# F_n: # of alive rabbits\n",
    "# F_n = F_(n-1) + k * F_(n-2)\n",
    "\n",
    "with open('../data/rosalind_fib.txt', 'r') as f:\n",
    "    inp = f.read().split()\n",
    "    n, k = int(inp[0]), int(inp[1])\n",
    "    dp = [0 for _ in range(n)]\n",
    "    dp[0] = 1\n",
    "    dp[1] = 1\n",
    "    for i in range(2, n):\n",
    "        dp[i] = dp[i-1] + k * dp[i-2]\n",
    "    print(dp[n-1])  "
   ]
  },
  {
   "cell_type": "code",
   "execution_count": null,
   "metadata": {
    "collapsed": true
   },
   "outputs": [],
   "source": [
    "# by others\n",
    "def fib(n, k):\n",
    "    a, b = 1, 1\n",
    "    for i in range(2, n):\n",
    "        a, b = b, k*a + b\n",
    "    return b"
   ]
  },
  {
   "cell_type": "markdown",
   "metadata": {},
   "source": [
    "# Computing GC Content"
   ]
  },
  {
   "cell_type": "code",
   "execution_count": null,
   "metadata": {
    "collapsed": false
   },
   "outputs": [],
   "source": [
    "# by myself\n",
    "with open('../data/rosalind_gc.txt', 'r') as f:\n",
    "    max_gc = -1\n",
    "    max_name = ''\n",
    "    dna = 'A'\n",
    "    line = f.readline()\n",
    "    while line:\n",
    "        while line and line[0] != '>':\n",
    "            dna += line[:-1]\n",
    "            line = f.readline()\n",
    "        \n",
    "        gorc = [1 if l in 'GC' else 0 for l in dna]\n",
    "        gc = sum(gorc) / len(gorc) * 100\n",
    "        if gc > max_gc:\n",
    "            max_gc = gc\n",
    "            max_name = name\n",
    "        \n",
    "        if line:\n",
    "            name = line[1:-1]\n",
    "            dna = ''\n",
    "            line = f.readline()\n",
    "\n",
    "    print(max_name)\n",
    "    print(max_gc)"
   ]
  },
  {
   "cell_type": "markdown",
   "metadata": {
    "collapsed": true
   },
   "source": [
    "# Counting Point Mutations"
   ]
  },
  {
   "cell_type": "code",
   "execution_count": null,
   "metadata": {
    "collapsed": false
   },
   "outputs": [],
   "source": [
    "# by myself\n",
    "with open('../data/rosalind_hamm.txt', 'r') as f:\n",
    "    dna1 = f.readline()\n",
    "    dna2 = f.readline()\n",
    "    \n",
    "    cnt = sum([1 if n1!=n2 else 0 for n1, n2 in zip(dna1, dna2)])\n",
    "    print(cnt)"
   ]
  },
  {
   "cell_type": "code",
   "execution_count": null,
   "metadata": {
    "collapsed": false
   },
   "outputs": [],
   "source": [
    "# by others\n",
    "from operator import ne\n",
    "\n",
    "with open(\"../data/rosalind_hamm.txt\", 'r') as infile:\n",
    "    print(sum(map(ne, *infile.read().split())))"
   ]
  },
  {
   "cell_type": "markdown",
   "metadata": {
    "collapsed": true
   },
   "source": [
    "# Mendel's First Law"
   ]
  },
  {
   "cell_type": "code",
   "execution_count": null,
   "metadata": {
    "collapsed": false
   },
   "outputs": [],
   "source": [
    "with open('../data/rosalind_iprb.txt', 'r') as f:\n",
    "    inp = list(map(lambda x: int(x), f.read().split()))\n",
    "    [k,m,n] = inp[:3]\n",
    "    total = k+m+n\n",
    "    print((k*(total-1) + m*(k+(m-1)*0.75+n*0.5) + n*(k+m*0.5)) / (total * (total-1)))"
   ]
  },
  {
   "cell_type": "markdown",
   "metadata": {
    "collapsed": true
   },
   "source": [
    "# Translating RNA into Protein"
   ]
  },
  {
   "cell_type": "code",
   "execution_count": null,
   "metadata": {
    "collapsed": false
   },
   "outputs": [],
   "source": [
    "\"\"\"\n",
    "UUU F      CUU L      AUU I      GUU V\n",
    "UUC F      CUC L      AUC I      GUC V\n",
    "UUA L      CUA L      AUA I      GUA V\n",
    "UUG L      CUG L      AUG M      GUG V\n",
    "UCU S      CCU P      ACU T      GCU A\n",
    "UCC S      CCC P      ACC T      GCC A\n",
    "UCA S      CCA P      ACA T      GCA A\n",
    "UCG S      CCG P      ACG T      GCG A\n",
    "UAU Y      CAU H      AAU N      GAU D\n",
    "UAC Y      CAC H      AAC N      GAC D\n",
    "UAA Stop   CAA Q      AAA K      GAA E\n",
    "UAG Stop   CAG Q      AAG K      GAG E\n",
    "UGU C      CGU R      AGU S      GGU G\n",
    "UGC C      CGC R      AGC S      GGC G\n",
    "UGA Stop   CGA R      AGA R      GGA G\n",
    "UGG W      CGG R      AGG R      GGG G \n",
    "\"\"\"\n",
    "# creating a dict of codon table\n",
    "codon_table = {}\n",
    "with open('../data/rna_codon_table.txt', 'r') as f:\n",
    "    line = f.readline()\n",
    "    while line:\n",
    "        l = line.split()\n",
    "        for i in range(len(l)//2):\n",
    "            codon_table[l[i*2]] = l[i*2+1]\n",
    "        line = f.readline()\n",
    "\n",
    "with open('../data/rosalind_prot.txt', 'r') as f:\n",
    "    ans = \"\"\n",
    "    rnas = f.read()\n",
    "    for i in range(len(rnas)//3):\n",
    "        code = codon_table[rnas[3*i:3*(i+1)]]\n",
    "        if code == \"Stop\": \n",
    "            break\n",
    "        ans += code\n",
    "    print(ans)"
   ]
  },
  {
   "cell_type": "markdown",
   "metadata": {
    "collapsed": true
   },
   "source": [
    "# Finding a Motif in DNA"
   ]
  },
  {
   "cell_type": "code",
   "execution_count": null,
   "metadata": {
    "collapsed": false
   },
   "outputs": [],
   "source": [
    "# implement BM algorithm\n",
    "from collections import defaultdict\n",
    "\n",
    "def BM(s, t, skip):\n",
    "    i = 0\n",
    "    n = len(s)\n",
    "    m = len(t)\n",
    "    while i <= n - m:\n",
    "        j = m - 1\n",
    "        while j >= 0 and s[i+j] == t[j]:\n",
    "            j = j - 1\n",
    "        if j == -1: return i\n",
    "        i += max(skip[s[i+j]] + j - m + 1, 1)\n",
    "    return -1\n",
    "\n",
    "def skip(t):\n",
    "    d = defaultdict(lambda: len(t))\n",
    "    for i, l in enumerate(t):\n",
    "        d[l] = len(t) - 1 - i\n",
    "    return d\n",
    "    \n",
    "with open('../data/rosalind_subs.txt', 'r') as f:\n",
    "    s = f.readline()[:-1]\n",
    "    t = f.readline()[:-1]\n",
    "    skip = skip(t)\n",
    "    \n",
    "    ans = ''\n",
    "    i = 0\n",
    "    while True:\n",
    "        ind = BM(s[i:],t,skip)\n",
    "        if ind < 0: break\n",
    "        ans += str(i+ind+1) + ' '\n",
    "        i += ind + 1\n",
    "    print(ans[:-1])"
   ]
  },
  {
   "cell_type": "markdown",
   "metadata": {},
   "source": [
    "# Consensus and Profile\n",
    "\n",
    "profile matrix:  \n",
    "長さnのDNA鎖の集合が与えられた時、(4,n)の行列  \n",
    "成分(1,j)はj番目にAがどのくらい含まれているか。\n",
    "\n",
    "consensus string:  \n",
    "profile matrixの各j番において一番多かった物を取った鎖を示す文字列"
   ]
  },
  {
   "cell_type": "code",
   "execution_count": null,
   "metadata": {
    "collapsed": false
   },
   "outputs": [],
   "source": [
    "import numpy as np\n",
    "from Bio import SeqIO\n",
    "\n",
    "def str2mat(s):\n",
    "    def char2vec(c):\n",
    "        if c == 'A': return [1,0,0,0]\n",
    "        elif c == 'C': return [0,1,0,0]\n",
    "        elif c == 'G': return [0,0,1,0]\n",
    "        elif c == 'T': return [0,0,0,1]\n",
    "    return np.array([char2vec(c) for c in s])\n",
    "\n",
    "def arg2char(a):\n",
    "    if a == 0: return 'A'\n",
    "    elif a == 1: return 'C'\n",
    "    elif a == 2: return 'G'\n",
    "    elif a == 3: return 'T'\n",
    "\n",
    "with open('../data/rosalind_cons.txt', 'r') as f:\n",
    "    records = SeqIO.parse(f, 'fasta')\n",
    "    mat = str2mat(str(records.__next__().seq))\n",
    "    for record in records:\n",
    "        mat += str2mat(str(record.seq))\n",
    "    \n",
    "    print(''.join([arg2char(a) for a in np.argmax(mat, axis=1)]))\n",
    "    print('A:',' '.join([str(e) for e in mat[:,0]]))\n",
    "    print('C:',' '.join([str(e) for e in mat[:,1]]))\n",
    "    print('G:',' '.join([str(e) for e in mat[:,2]]))\n",
    "    print('T:',' '.join([str(e) for e in mat[:,3]]))"
   ]
  },
  {
   "cell_type": "markdown",
   "metadata": {
    "collapsed": true
   },
   "source": [
    "# Mortal Fibonacci Rabbits"
   ]
  },
  {
   "cell_type": "code",
   "execution_count": 6,
   "metadata": {
    "collapsed": false
   },
   "outputs": [
    {
     "name": "stdout",
     "output_type": "stream",
     "text": [
      "134446971212536711986\n"
     ]
    }
   ],
   "source": [
    "'''\n",
    "F_1: a pair of 2 children -> 1 pair\n",
    "F_2: a pair of 2 adults -> 1 pair\n",
    "F_3: a pair of 2 adults and a pair of 2 children -> 2 pair\n",
    "...\n",
    "F_k = F_k-1 + F_k-2\n",
    "\n",
    "However, different from Rabbits and Recurrence Relations, rabbits live only for m month\n",
    "Therefore, F_k = F_k-1 + F_k-2 - F_k-m\n",
    "'''\n",
    "\n",
    "with open('../data/rosalind_fibd.txt', 'r') as f:\n",
    "    inp = f.read().split()\n",
    "    n, m = int(inp[0]), int(inp[1])\n",
    "    children = [0 for _ in range(n)]\n",
    "    adults = [0 for _ in range(n)]\n",
    "    children[0] = 1\n",
    "    adults[0] = 0\n",
    "    for i in range(1,n):\n",
    "        if i >= m:\n",
    "            adults[i] = children[i-1] + adults[i-1] - children[i-m]\n",
    "        else:\n",
    "            adults[i] = children[i-1] + adults[i-1]\n",
    "        children[i] = adults[i-1]\n",
    "    \n",
    "    print(adults[n-1] + children[n-1])"
   ]
  },
  {
   "cell_type": "code",
   "execution_count": 9,
   "metadata": {
    "collapsed": false
   },
   "outputs": [
    {
     "data": {
      "text/plain": [
       "4"
      ]
     },
     "execution_count": 9,
     "metadata": {},
     "output_type": "execute_result"
    }
   ],
   "source": [
    "# by others\n",
    "def fib(n,k=1):\n",
    "    ages = [1] + [0]*(m-1)\n",
    "    for i in range(n-1):\n",
    "        ages = [sum(ages[1:])] + ages[:-1]\n",
    "    return sum(ages)\n",
    "\n",
    "n = 6\n",
    "m = 3\n",
    "fib(6,3)"
   ]
  },
  {
   "cell_type": "markdown",
   "metadata": {
    "collapsed": true
   },
   "source": [
    "# Overlap Graphs"
   ]
  },
  {
   "cell_type": "code",
   "execution_count": 15,
   "metadata": {
    "collapsed": false
   },
   "outputs": [
    {
     "name": "stdout",
     "output_type": "stream",
     "text": [
      "Rosalind_4407 Rosalind_5697\n",
      "Rosalind_0790 Rosalind_4306\n",
      "Rosalind_0122 Rosalind_5073\n",
      "Rosalind_5067 Rosalind_0296\n",
      "Rosalind_8080 Rosalind_0364\n",
      "Rosalind_4645 Rosalind_6207\n",
      "Rosalind_7587 Rosalind_0296\n",
      "Rosalind_8246 Rosalind_6356\n",
      "Rosalind_8545 Rosalind_2927\n",
      "Rosalind_3327 Rosalind_3493\n",
      "Rosalind_0296 Rosalind_8246\n",
      "Rosalind_3590 Rosalind_7168\n",
      "Rosalind_0837 Rosalind_7643\n",
      "Rosalind_3889 Rosalind_7945\n",
      "Rosalind_0227 Rosalind_4407\n",
      "Rosalind_8410 Rosalind_1240\n",
      "Rosalind_1553 Rosalind_0790\n",
      "Rosalind_4438 Rosalind_5486\n",
      "Rosalind_5697 Rosalind_2129\n",
      "Rosalind_7643 Rosalind_1240\n",
      "Rosalind_3327 Rosalind_1240\n",
      "Rosalind_4352 Rosalind_5486\n",
      "Rosalind_8572 Rosalind_4957\n",
      "Rosalind_5486 Rosalind_2139\n",
      "Rosalind_1154 Rosalind_9165\n",
      "Rosalind_4031 Rosalind_8904\n",
      "Rosalind_0296 Rosalind_4153\n",
      "Rosalind_8545 Rosalind_9378\n",
      "Rosalind_0439 Rosalind_6356\n",
      "Rosalind_2139 Rosalind_6417\n",
      "Rosalind_2948 Rosalind_4089\n",
      "Rosalind_3815 Rosalind_4473\n",
      "Rosalind_6356 Rosalind_4652\n",
      "Rosalind_5142 Rosalind_8545\n",
      "Rosalind_2139 Rosalind_5486\n",
      "Rosalind_4957 Rosalind_0364\n",
      "Rosalind_0077 Rosalind_4407\n",
      "Rosalind_5535 Rosalind_7719\n",
      "Rosalind_7680 Rosalind_6088\n",
      "Rosalind_4169 Rosalind_1337\n",
      "Rosalind_4412 Rosalind_0244\n",
      "Rosalind_5486 Rosalind_3579\n",
      "Rosalind_0972 Rosalind_0837\n",
      "Rosalind_2137 Rosalind_0122\n",
      "Rosalind_0227 Rosalind_0077\n",
      "Rosalind_0296 Rosalind_8545\n",
      "Rosalind_4645 Rosalind_0393\n",
      "Rosalind_1586 Rosalind_5486\n",
      "Rosalind_7587 Rosalind_7719\n",
      "Rosalind_6356 Rosalind_7945\n",
      "Rosalind_4494 Rosalind_7719\n",
      "Rosalind_7643 Rosalind_3493\n",
      "Rosalind_3889 Rosalind_4652\n",
      "Rosalind_4031 Rosalind_0783\n",
      "Rosalind_2137 Rosalind_6093\n",
      "Rosalind_7680 Rosalind_1586\n",
      "Rosalind_4473 Rosalind_8904\n",
      "Rosalind_3805 Rosalind_9378\n",
      "Rosalind_4306 Rosalind_6207\n",
      "Rosalind_6158 Rosalind_2137\n",
      "Rosalind_5142 Rosalind_6158\n",
      "Rosalind_9152 Rosalind_5873\n",
      "Rosalind_4089 Rosalind_9872\n",
      "Rosalind_4473 Rosalind_0783\n",
      "Rosalind_8410 Rosalind_3493\n",
      "Rosalind_2139 Rosalind_7680\n",
      "Rosalind_5678 Rosalind_6356\n",
      "Rosalind_4438 Rosalind_6417\n",
      "Rosalind_5483 Rosalind_5486\n",
      "Rosalind_1553 Rosalind_9872\n",
      "Rosalind_5142 Rosalind_8572\n",
      "Rosalind_4306 Rosalind_0393\n",
      "Rosalind_4407 Rosalind_1337\n",
      "Rosalind_9152 Rosalind_9165\n",
      "Rosalind_3805 Rosalind_2927\n",
      "Rosalind_0122 Rosalind_6258\n",
      "Rosalind_4957 Rosalind_3306\n",
      "Rosalind_5483 Rosalind_6417\n",
      "Rosalind_9690 Rosalind_8410\n",
      "Rosalind_4412 Rosalind_5142\n",
      "Rosalind_0439 Rosalind_4169\n",
      "Rosalind_4169 Rosalind_0995\n",
      "Rosalind_4352 Rosalind_6417\n",
      "Rosalind_0227 Rosalind_5067\n",
      "Rosalind_0296 Rosalind_8080\n",
      "Rosalind_6258 Rosalind_2137\n",
      "Rosalind_4306 Rosalind_0972\n",
      "Rosalind_5678 Rosalind_4169\n",
      "Rosalind_4089 Rosalind_0790\n",
      "Rosalind_0296 Rosalind_8572\n",
      "Rosalind_0296 Rosalind_5678\n",
      "Rosalind_0790 Rosalind_9152\n",
      "Rosalind_3590 Rosalind_8857\n",
      "Rosalind_4438 Rosalind_7680\n",
      "Rosalind_8246 Rosalind_4169\n",
      "Rosalind_4169 Rosalind_5697\n",
      "Rosalind_1586 Rosalind_6417\n",
      "Rosalind_6063 Rosalind_0439\n",
      "Rosalind_0296 Rosalind_6158\n",
      "Rosalind_9025 Rosalind_4089\n",
      "Rosalind_5486 Rosalind_9773\n",
      "Rosalind_4652 Rosalind_7720\n",
      "Rosalind_0995 Rosalind_9378\n",
      "Rosalind_5142 Rosalind_8080\n",
      "Rosalind_9378 Rosalind_9872\n",
      "Rosalind_0972 Rosalind_3889\n",
      "Rosalind_0077 Rosalind_5067\n",
      "Rosalind_5142 Rosalind_4153\n",
      "Rosalind_5535 Rosalind_0296\n",
      "Rosalind_0995 Rosalind_2927\n",
      "Rosalind_5073 Rosalind_4473\n",
      "Rosalind_5873 Rosalind_0837\n",
      "Rosalind_8080 Rosalind_3306\n",
      "Rosalind_7720 Rosalind_4494\n",
      "Rosalind_7680 Rosalind_1553\n",
      "Rosalind_4645 Rosalind_3614\n",
      "Rosalind_0790 Rosalind_9025\n",
      "Rosalind_5873 Rosalind_3889\n",
      "Rosalind_9378 Rosalind_0790\n",
      "Rosalind_1586 Rosalind_7680\n",
      "Rosalind_7680 Rosalind_3815\n",
      "Rosalind_2137 Rosalind_4438\n",
      "Rosalind_5142 Rosalind_8246\n",
      "Rosalind_7168 Rosalind_4089\n",
      "Rosalind_4494 Rosalind_0296\n",
      "Rosalind_2675 Rosalind_9152\n",
      "Rosalind_4306 Rosalind_3614\n",
      "Rosalind_4407 Rosalind_0995\n",
      "Rosalind_4645 Rosalind_0972\n",
      "Rosalind_4352 Rosalind_7680\n",
      "Rosalind_2675 Rosalind_9025\n",
      "Rosalind_2675 Rosalind_4306\n",
      "Rosalind_4153 Rosalind_2137\n",
      "Rosalind_6063 Rosalind_4412\n",
      "Rosalind_5697 Rosalind_4031\n",
      "Rosalind_5067 Rosalind_7719\n",
      "Rosalind_5483 Rosalind_7680\n",
      "Rosalind_6063 Rosalind_4430\n",
      "Rosalind_2270 Rosalind_8410\n",
      "Rosalind_8217 Rosalind_0111\n",
      "Rosalind_5142 Rosalind_5678\n",
      "Rosalind_1154 Rosalind_5873\n"
     ]
    }
   ],
   "source": [
    "'''\n",
    "each node is connected ((s,t) is edge) if 3 suffix of s and 3 prefix of t are equal\n",
    "'''\n",
    "from collections import defaultdict\n",
    "from Bio import SeqIO\n",
    "import itertools\n",
    "\n",
    "with open('../data/rosalind_grph.txt', 'r') as f:\n",
    "    k = 3\n",
    "    suf_dic = defaultdict(list)\n",
    "    pre_dic = defaultdict(list)\n",
    "    records = SeqIO.parse(f, 'fasta')\n",
    "    for record in records:\n",
    "        id_part = record.id\n",
    "        seq = str(record.seq)\n",
    "        pre_dic[seq[:k]] = pre_dic[seq[:k]] + [id_part]\n",
    "        suf_dic[seq[-k:]] = suf_dic[seq[-k:]] + [id_part]\n",
    "        \n",
    "    \n",
    "    dna = ('A', 'C', 'G', 'T')\n",
    "    ans = []\n",
    "    for i in itertools.product(dna, repeat=k):\n",
    "        key = ''.join(i)\n",
    "        ans += itertools.product(suf_dic[key], pre_dic[key])\n",
    "    \n",
    "    print('\\n'.join(set([a + ' ' + b for (a,b) in ans if a != b])))"
   ]
  },
  {
   "cell_type": "markdown",
   "metadata": {
    "collapsed": true
   },
   "source": [
    "# Calculating Expected Offspring"
   ]
  },
  {
   "cell_type": "code",
   "execution_count": 2,
   "metadata": {
    "collapsed": false
   },
   "outputs": [
    {
     "name": "stdout",
     "output_type": "stream",
     "text": [
      "152194.0\n"
     ]
    }
   ],
   "source": [
    "import numpy as np\n",
    "with open('../data/rosalind_iev.txt', 'r') as f:\n",
    "    inp = map(lambda x: )\n",
    "#     inp = np.array([int(n) for n in f.read().split()])\n",
    "    e = np.array([2, 2, 2, 1.5, 1, 0])\n",
    "    print(np.dot(inp, e))"
   ]
  },
  {
   "cell_type": "code",
   "execution_count": null,
   "metadata": {
    "collapsed": true
   },
   "outputs": [],
   "source": []
  }
 ],
 "metadata": {
  "anaconda-cloud": {},
  "kernelspec": {
   "display_name": "Python [conda root]",
   "language": "python",
   "name": "conda-root-py"
  },
  "language_info": {
   "codemirror_mode": {
    "name": "ipython",
    "version": 3
   },
   "file_extension": ".py",
   "mimetype": "text/x-python",
   "name": "python",
   "nbconvert_exporter": "python",
   "pygments_lexer": "ipython3",
   "version": "3.5.2"
  }
 },
 "nbformat": 4,
 "nbformat_minor": 1
}
