{
 "cells": [
  {
   "cell_type": "markdown",
   "metadata": {},
   "source": [
    "# Counting DNA Nucleotides"
   ]
  },
  {
   "cell_type": "code",
   "execution_count": null,
   "metadata": {
    "collapsed": false
   },
   "outputs": [],
   "source": [
    "# by myself\n",
    "a_cnt, c_cnt, g_cnt, t_cnt = 0,0,0,0\n",
    "with open('../data/rosalind_dna.txt', 'r') as f:\n",
    "    dna = f.read()\n",
    "    for letter in dna:\n",
    "        if letter == 'A':\n",
    "            a_cnt+=1\n",
    "        elif letter == 'C':\n",
    "            c_cnt+=1\n",
    "        elif letter == 'G':\n",
    "            g_cnt+=1\n",
    "        elif letter == 'T':\n",
    "            t_cnt+=1\n",
    "                \n",
    "print(a_cnt, c_cnt, g_cnt, t_cnt)"
   ]
  },
  {
   "cell_type": "markdown",
   "metadata": {},
   "source": [
    "# Transcribing DNA into RNA"
   ]
  },
  {
   "cell_type": "code",
   "execution_count": null,
   "metadata": {
    "collapsed": false
   },
   "outputs": [],
   "source": [
    "# by myself\n",
    "rna = ''\n",
    "with open('../data/rosalind_rna.txt', 'r') as f:\n",
    "    dna = f.read()\n",
    "    rna = dna.replace('T', 'U')\n",
    "\n",
    "print(rna)"
   ]
  },
  {
   "cell_type": "markdown",
   "metadata": {
    "collapsed": true
   },
   "source": [
    "# Complementing a Strand of DNA"
   ]
  },
  {
   "cell_type": "code",
   "execution_count": null,
   "metadata": {
    "collapsed": false
   },
   "outputs": [],
   "source": [
    "# by myself\n",
    "reverse_complement = ''\n",
    "with open('../data/rosalind_revc.txt', 'r') as f:\n",
    "    dna = f.read()\n",
    "    reverse_complement = dna[::-1].translate(str.maketrans('ATGC', 'TACG'))\n",
    "    \n",
    "print(reverse_complement)"
   ]
  },
  {
   "cell_type": "markdown",
   "metadata": {
    "collapsed": true
   },
   "source": [
    "# Rabbits and Recurrence Relations"
   ]
  },
  {
   "cell_type": "code",
   "execution_count": null,
   "metadata": {
    "collapsed": false
   },
   "outputs": [],
   "source": [
    "# by myself\n",
    "# 1: a pair of 2 children -> 1\n",
    "# 2: a pair of 2 adults -> 1\n",
    "# 3: a pair of 2 adults and k pair of 2 children -> k+1\n",
    "# ...\n",
    "# F_n: # of alive rabbits\n",
    "# F_n = F_(n-1) + k * F_(n-2)\n",
    "\n",
    "with open('../data/rosalind_fib.txt', 'r') as f:\n",
    "    inp = f.read().split()\n",
    "    n, k = int(inp[0]), int(inp[1])\n",
    "    dp = [0 for _ in range(n)]\n",
    "    dp[0] = 1\n",
    "    dp[1] = 1\n",
    "    for i in range(2, n):\n",
    "        dp[i] = dp[i-1] + k * dp[i-2]\n",
    "    print(dp[n-1])  "
   ]
  },
  {
   "cell_type": "code",
   "execution_count": null,
   "metadata": {
    "collapsed": true
   },
   "outputs": [],
   "source": [
    "# by others\n",
    "def fib(n, k):\n",
    "    a, b = 1, 1\n",
    "    for i in range(2, n):\n",
    "        a, b = b, k*a + b\n",
    "    return b"
   ]
  },
  {
   "cell_type": "markdown",
   "metadata": {},
   "source": [
    "# Computing GC Content"
   ]
  },
  {
   "cell_type": "code",
   "execution_count": null,
   "metadata": {
    "collapsed": false
   },
   "outputs": [],
   "source": [
    "# by myself\n",
    "from Bio import SeqIO\n",
    "\n",
    "with open('../data/rosalind_gc.txt', 'r') as f:\n",
    "    max_gc = -1\n",
    "    max_name = ''\n",
    "    records = SeqIO.parse(f, 'fasta')\n",
    "    \n",
    "    for record in records:\n",
    "        seq = str(record.seq)\n",
    "        gorc = [1 if l in 'GC' else 0 for l in seq]\n",
    "        gc = sum(gorc) / len(gorc) * 100\n",
    "        if gc > max_gc:\n",
    "            max_gc = gc\n",
    "            max_name = record.id\n",
    "\n",
    "    print(max_name)\n",
    "    print(max_gc)"
   ]
  },
  {
   "cell_type": "markdown",
   "metadata": {
    "collapsed": true
   },
   "source": [
    "# Counting Point Mutations"
   ]
  },
  {
   "cell_type": "code",
   "execution_count": null,
   "metadata": {
    "collapsed": false
   },
   "outputs": [],
   "source": [
    "# by myself\n",
    "with open('../data/rosalind_hamm.txt', 'r') as f:\n",
    "    dna1 = f.readline()\n",
    "    dna2 = f.readline()\n",
    "    \n",
    "    cnt = sum([1 if n1!=n2 else 0 for n1, n2 in zip(dna1, dna2)])\n",
    "    print(cnt)"
   ]
  },
  {
   "cell_type": "code",
   "execution_count": null,
   "metadata": {
    "collapsed": false
   },
   "outputs": [],
   "source": [
    "# by others\n",
    "from operator import ne\n",
    "\n",
    "with open(\"../data/rosalind_hamm.txt\", 'r') as infile:\n",
    "    print(sum(map(ne, *infile.read().split())))"
   ]
  },
  {
   "cell_type": "markdown",
   "metadata": {
    "collapsed": true
   },
   "source": [
    "# Mendel's First Law"
   ]
  },
  {
   "cell_type": "code",
   "execution_count": null,
   "metadata": {
    "collapsed": false
   },
   "outputs": [],
   "source": [
    "with open('../data/rosalind_iprb.txt', 'r') as f:\n",
    "    inp = list(map(lambda x: int(x), f.read().split()))\n",
    "    [k,m,n] = inp[:3]\n",
    "    total = k+m+n\n",
    "    print((k*(total-1) + m*(k+(m-1)*0.75+n*0.5) + n*(k+m*0.5)) / (total * (total-1)))"
   ]
  },
  {
   "cell_type": "markdown",
   "metadata": {
    "collapsed": true
   },
   "source": [
    "# Translating RNA into Protein"
   ]
  },
  {
   "cell_type": "code",
   "execution_count": null,
   "metadata": {
    "collapsed": false
   },
   "outputs": [],
   "source": [
    "\"\"\"\n",
    "UUU F      CUU L      AUU I      GUU V\n",
    "UUC F      CUC L      AUC I      GUC V\n",
    "UUA L      CUA L      AUA I      GUA V\n",
    "UUG L      CUG L      AUG M      GUG V\n",
    "UCU S      CCU P      ACU T      GCU A\n",
    "UCC S      CCC P      ACC T      GCC A\n",
    "UCA S      CCA P      ACA T      GCA A\n",
    "UCG S      CCG P      ACG T      GCG A\n",
    "UAU Y      CAU H      AAU N      GAU D\n",
    "UAC Y      CAC H      AAC N      GAC D\n",
    "UAA Stop   CAA Q      AAA K      GAA E\n",
    "UAG Stop   CAG Q      AAG K      GAG E\n",
    "UGU C      CGU R      AGU S      GGU G\n",
    "UGC C      CGC R      AGC S      GGC G\n",
    "UGA Stop   CGA R      AGA R      GGA G\n",
    "UGG W      CGG R      AGG R      GGG G \n",
    "\"\"\"\n",
    "# creating a dict of codon table\n",
    "codon_table = {}\n",
    "with open('../data/rna_codon_table.txt', 'r') as f:\n",
    "    line = f.readline()\n",
    "    while line:\n",
    "        l = line.split()\n",
    "        for i in range(len(l)//2):\n",
    "            codon_table[l[i*2]] = l[i*2+1]\n",
    "        line = f.readline()\n",
    "\n",
    "with open('../data/rosalind_prot.txt', 'r') as f:\n",
    "    ans = \"\"\n",
    "    rnas = f.read()\n",
    "    for i in range(len(rnas)//3):\n",
    "        code = codon_table[rnas[3*i:3*(i+1)]]\n",
    "        if code == \"Stop\": \n",
    "            break\n",
    "        ans += code\n",
    "    print(ans)"
   ]
  },
  {
   "cell_type": "markdown",
   "metadata": {
    "collapsed": true
   },
   "source": [
    "# Finding a Motif in DNA"
   ]
  },
  {
   "cell_type": "code",
   "execution_count": null,
   "metadata": {
    "collapsed": false
   },
   "outputs": [],
   "source": [
    "# implement BM algorithm\n",
    "from collections import defaultdict\n",
    "\n",
    "def BM(s, t, skip):\n",
    "    i = 0\n",
    "    n = len(s)\n",
    "    m = len(t)\n",
    "    while i <= n - m:\n",
    "        j = m - 1\n",
    "        while j >= 0 and s[i+j] == t[j]:\n",
    "            j = j - 1\n",
    "        if j == -1: return i\n",
    "        i += max(skip[s[i+j]] + j - m + 1, 1)\n",
    "    return -1\n",
    "\n",
    "def skip(t):\n",
    "    d = defaultdict(lambda: len(t))\n",
    "    for i, l in enumerate(t):\n",
    "        d[l] = len(t) - 1 - i\n",
    "    return d\n",
    "    \n",
    "with open('../data/rosalind_subs.txt', 'r') as f:\n",
    "    s = f.readline()[:-1]\n",
    "    t = f.readline()[:-1]\n",
    "    skip = skip(t)\n",
    "    \n",
    "    ans = ''\n",
    "    i = 0\n",
    "    while True:\n",
    "        ind = BM(s[i:],t,skip)\n",
    "        if ind < 0: break\n",
    "        ans += str(i+ind+1) + ' '\n",
    "        i += ind + 1\n",
    "    print(ans[:-1])"
   ]
  },
  {
   "cell_type": "markdown",
   "metadata": {},
   "source": [
    "# Consensus and Profile\n",
    "\n",
    "profile matrix:  \n",
    "長さnのDNA鎖の集合が与えられた時、(4,n)の行列  \n",
    "成分(1,j)はj番目にAがどのくらい含まれているか。\n",
    "\n",
    "consensus string:  \n",
    "profile matrixの各j番において一番多かった物を取った鎖を示す文字列"
   ]
  },
  {
   "cell_type": "code",
   "execution_count": null,
   "metadata": {
    "collapsed": false
   },
   "outputs": [],
   "source": [
    "import numpy as np\n",
    "from Bio import SeqIO\n",
    "\n",
    "def str2mat(s):\n",
    "    def char2vec(c):\n",
    "        if c == 'A': return [1,0,0,0]\n",
    "        elif c == 'C': return [0,1,0,0]\n",
    "        elif c == 'G': return [0,0,1,0]\n",
    "        elif c == 'T': return [0,0,0,1]\n",
    "    return np.array([char2vec(c) for c in s])\n",
    "\n",
    "def arg2char(a):\n",
    "    if a == 0: return 'A'\n",
    "    elif a == 1: return 'C'\n",
    "    elif a == 2: return 'G'\n",
    "    elif a == 3: return 'T'\n",
    "\n",
    "with open('../data/rosalind_cons.txt', 'r') as f:\n",
    "    records = SeqIO.parse(f, 'fasta')\n",
    "    mat = str2mat(str(records.__next__().seq))\n",
    "    for record in records:\n",
    "        mat += str2mat(str(record.seq))\n",
    "    \n",
    "    print(''.join([arg2char(a) for a in np.argmax(mat, axis=1)]))\n",
    "    print('A:',' '.join([str(e) for e in mat[:,0]]))\n",
    "    print('C:',' '.join([str(e) for e in mat[:,1]]))\n",
    "    print('G:',' '.join([str(e) for e in mat[:,2]]))\n",
    "    print('T:',' '.join([str(e) for e in mat[:,3]]))"
   ]
  },
  {
   "cell_type": "markdown",
   "metadata": {
    "collapsed": true
   },
   "source": [
    "# Mortal Fibonacci Rabbits"
   ]
  },
  {
   "cell_type": "code",
   "execution_count": null,
   "metadata": {
    "collapsed": false
   },
   "outputs": [],
   "source": [
    "'''\n",
    "F_1: a pair of 2 children -> 1 pair\n",
    "F_2: a pair of 2 adults -> 1 pair\n",
    "F_3: a pair of 2 adults and a pair of 2 children -> 2 pair\n",
    "...\n",
    "F_k = F_k-1 + F_k-2\n",
    "\n",
    "However, different from Rabbits and Recurrence Relations, rabbits live only for m month\n",
    "Therefore, F_k = F_k-1 + F_k-2 - F_k-m\n",
    "'''\n",
    "\n",
    "with open('../data/rosalind_fibd.txt', 'r') as f:\n",
    "    inp = f.read().split()\n",
    "    n, m = int(inp[0]), int(inp[1])\n",
    "    children = [0 for _ in range(n)]\n",
    "    adults = [0 for _ in range(n)]\n",
    "    children[0] = 1\n",
    "    adults[0] = 0\n",
    "    for i in range(1,n):\n",
    "        if i >= m:\n",
    "            adults[i] = children[i-1] + adults[i-1] - children[i-m]\n",
    "        else:\n",
    "            adults[i] = children[i-1] + adults[i-1]\n",
    "        children[i] = adults[i-1]\n",
    "    \n",
    "    print(adults[n-1] + children[n-1])"
   ]
  },
  {
   "cell_type": "code",
   "execution_count": null,
   "metadata": {
    "collapsed": false
   },
   "outputs": [],
   "source": [
    "# by others\n",
    "def fib(n,k=1):\n",
    "    ages = [1] + [0]*(m-1)\n",
    "    for i in range(n-1):\n",
    "        ages = [sum(ages[1:])] + ages[:-1]\n",
    "    return sum(ages)\n",
    "\n",
    "n = 6\n",
    "m = 3\n",
    "fib(6,3)"
   ]
  },
  {
   "cell_type": "markdown",
   "metadata": {
    "collapsed": true
   },
   "source": [
    "# Overlap Graphs"
   ]
  },
  {
   "cell_type": "code",
   "execution_count": null,
   "metadata": {
    "collapsed": false
   },
   "outputs": [],
   "source": [
    "'''\n",
    "each node is connected ((s,t) is edge) if 3 suffix of s and 3 prefix of t are equal\n",
    "'''\n",
    "from collections import defaultdict\n",
    "from Bio import SeqIO\n",
    "import itertools\n",
    "\n",
    "with open('../data/rosalind_grph.txt', 'r') as f:\n",
    "    k = 3\n",
    "    suf_dic = defaultdict(list)\n",
    "    pre_dic = defaultdict(list)\n",
    "    records = SeqIO.parse(f, 'fasta')\n",
    "    for record in records:\n",
    "        id_part = record.id\n",
    "        seq = str(record.seq)\n",
    "        pre_dic[seq[:k]] = pre_dic[seq[:k]] + [id_part]\n",
    "        suf_dic[seq[-k:]] = suf_dic[seq[-k:]] + [id_part]\n",
    "        \n",
    "    \n",
    "    dna = ('A', 'C', 'G', 'T')\n",
    "    ans = []\n",
    "    for i in itertools.product(dna, repeat=k):\n",
    "        key = ''.join(i)\n",
    "        ans += itertools.product(suf_dic[key], pre_dic[key])\n",
    "    \n",
    "    print('\\n'.join(set([a + ' ' + b for (a,b) in ans if a != b])))"
   ]
  },
  {
   "cell_type": "markdown",
   "metadata": {
    "collapsed": true
   },
   "source": [
    "# Calculating Expected Offspring"
   ]
  },
  {
   "cell_type": "code",
   "execution_count": null,
   "metadata": {
    "collapsed": false
   },
   "outputs": [],
   "source": [
    "import numpy as np\n",
    "with open('../data/rosalind_iev.txt', 'r') as f:\n",
    "    inp = np.array([int(n) for n in f.read().split()])\n",
    "    e = np.array([2, 2, 2, 1.5, 1, 0])\n",
    "    print(np.dot(inp, e))"
   ]
  },
  {
   "cell_type": "markdown",
   "metadata": {
    "collapsed": true
   },
   "source": [
    "# Finding a Shared Motif"
   ]
  },
  {
   "cell_type": "code",
   "execution_count": null,
   "metadata": {
    "collapsed": false
   },
   "outputs": [],
   "source": [
    "# not using but leave for future\n",
    "def lcs(x,y):\n",
    "    dp = [[0 for _ in range(len(y)+1)] for _ in range(len(x)+1)]\n",
    "    longest, x_longest = 0, 0\n",
    "    for i, e1 in enumerate(x):\n",
    "        for j, e2 in enumerate(y):\n",
    "            if e1==e2:\n",
    "                dp[i+1][j+1] = dp[i][j] + 1\n",
    "                if dp[i+1][j+1] > longest:\n",
    "                    longest = dp[i+1][j+1]\n",
    "                    x_longest = i+1\n",
    "\n",
    "    return x[x_longest-longest:x_longest]\n",
    "\n",
    "from Bio import SeqIO\n",
    "\n",
    "with open('../data/rosalind_lcsm.txt', 'r') as f:\n",
    "    records = SeqIO.parse(f, 'fasta')\n",
    "    seqs = [str(record.seq) for record in records]\n",
    "    s = seqs[0]\n",
    "    ans = ''\n",
    "    for i in range(len(s)):\n",
    "        for j in range(i+1, len(s)+1):\n",
    "            sub = s[i:j]\n",
    "            flag = True\n",
    "            for k in range(1, len(seqs)):\n",
    "                if sub not in seqs[k]:\n",
    "                    flag = False\n",
    "                    break\n",
    "            if len(sub) > len(ans) and flag:\n",
    "                ans = sub\n",
    "                \n",
    "    print(ans)"
   ]
  },
  {
   "cell_type": "markdown",
   "metadata": {
    "collapsed": true
   },
   "source": [
    "# Independent Alleles"
   ]
  },
  {
   "cell_type": "code",
   "execution_count": null,
   "metadata": {
    "collapsed": false
   },
   "outputs": [],
   "source": [
    "'''\n",
    "k: k-th generation\n",
    "N: N Aa Bb organisms\n",
    "\n",
    "Each organism always mates with an organism having genotype Aa Bb\n",
    "Each chileren have 2 children\n",
    "\n",
    "=> 0.25^N x 0.75^(2^k-N) + ... + 0.25^(2^k) x 0.75^(0)\n",
    "'''\n",
    "from scipy.special import comb\n",
    "with open('../data/rosalind_lia.txt', 'r') as f:\n",
    "    inp = f.read().split()\n",
    "    k, N = int(inp[0]), int(inp[1])\n",
    "    ans = 0\n",
    "    for i in range(N, 2**k+1):\n",
    "        ans += comb(2**k, i, exact=True) * (0.25**i) * (0.75**((2**k)-i))\n",
    "    print(ans)"
   ]
  },
  {
   "cell_type": "code",
   "execution_count": null,
   "metadata": {
    "collapsed": false
   },
   "outputs": [],
   "source": [
    "# by others\n",
    "from scipy.stats import binom\n",
    "1 - binom.cdf(n - 1, 2 ** k, 0.25)"
   ]
  },
  {
   "cell_type": "markdown",
   "metadata": {},
   "source": [
    "# Finding a Protein Motif"
   ]
  },
  {
   "cell_type": "code",
   "execution_count": null,
   "metadata": {
    "collapsed": false
   },
   "outputs": [],
   "source": [
    "'''\n",
    "pattern: N{P}[ST]{P}\n",
    "'''\n",
    "\n",
    "import regex as re  # in order to use overlapped flag, which is not implemented in standard re\n",
    "import urllib.request\n",
    "from Bio import SeqIO\n",
    "\n",
    "with open('../data/rosalind_mprt.txt', 'r') as f:\n",
    "    pattern = r'N[^P](S|T)[^P]'\n",
    "    repatter = re.compile(pattern)\n",
    "    ids = f.read().split()\n",
    "    for id_ in ids:\n",
    "        url = 'https://www.uniprot.org/uniprot/' + str(id_) + '.fasta'\n",
    "        protein = ''.join(urllib.request.urlopen(url).read().decode('utf-8').split('\\n')[1:-1])\n",
    "        \n",
    "        ans = ''\n",
    "        for match in repatter.finditer(protein, overlapped=True):\n",
    "            ans += str(match.start()+1) + ' '\n",
    "        if ans != '':\n",
    "            print(id_)\n",
    "            print(ans[:-1])"
   ]
  },
  {
   "cell_type": "markdown",
   "metadata": {
    "collapsed": true
   },
   "source": [
    "# Inferring mRNA from Protein"
   ]
  },
  {
   "cell_type": "code",
   "execution_count": null,
   "metadata": {
    "collapsed": false
   },
   "outputs": [],
   "source": [
    "from collections import defaultdict\n",
    "codon_cnt_table = defaultdict(int)\n",
    "with open('../data/rna_codon_table.txt', 'r') as f:\n",
    "    line = f.readline()\n",
    "    while line:\n",
    "        l = line.split()\n",
    "        for i in range(len(l)//2):\n",
    "            codon_cnt_table[l[i*2+1]] += 1\n",
    "        line = f.readline()\n",
    "        \n",
    "with open('../data/rosalind_mrna.txt', 'r') as f:\n",
    "    line = f.readline()  # there should be only one line\n",
    "    ans = 3  # for stop codon\n",
    "    for protein in line[:-1]:\n",
    "        ans = (ans * codon_cnt_table[protein]) % 1000000\n",
    "    print(ans)"
   ]
  },
  {
   "cell_type": "markdown",
   "metadata": {
    "collapsed": true
   },
   "source": [
    "# Open Reading Frames\n",
    "open reading frame (ORF) is one which starts from the start codon and ends by stop codon, without any other stop codons in between."
   ]
  },
  {
   "cell_type": "code",
   "execution_count": null,
   "metadata": {
    "collapsed": false
   },
   "outputs": [],
   "source": [
    "from Bio import SeqIO\n",
    "\n",
    "# creating a dict of codon table\n",
    "dna_codon_table = {}\n",
    "with open('../data/dna_codon_table.txt', 'r') as f:\n",
    "    line = f.readline()\n",
    "    while line:\n",
    "        l = line.split()\n",
    "        for i in range(len(l)//2):\n",
    "            dna_codon_table[l[i*2]] = l[i*2+1]\n",
    "        line = f.readline()\n",
    "\n",
    "with open('../data/rosalind_orf.txt', 'r') as f:\n",
    "    records = SeqIO.parse(f, 'fasta')\n",
    "    seq = records.__next__().seq\n",
    "    s_ = str(seq)\n",
    "    s_comp = seq.reverse_complement()\n",
    "    ans_set = set()\n",
    "    start_codon = 'ATG'\n",
    "    for s in [s_, s_comp]:\n",
    "        for i in range(len(s)-3):\n",
    "            if s[i:i+3] == start_codon:\n",
    "                ans = 'M'\n",
    "                k = i + 3\n",
    "                while k + 3 <= len(s):\n",
    "                    if dna_codon_table[s[k:k+3]] == 'Stop':\n",
    "                        ans_set.add(ans)\n",
    "                        break\n",
    "                    ans += dna_codon_table[s[k:k+3]]\n",
    "                    k += 3\n",
    "    print('\\n'.join(ans_set))"
   ]
  },
  {
   "cell_type": "markdown",
   "metadata": {
    "collapsed": true
   },
   "source": [
    "# Enumerating Gene Orders"
   ]
  },
  {
   "cell_type": "code",
   "execution_count": null,
   "metadata": {
    "collapsed": false
   },
   "outputs": [],
   "source": [
    "import itertools\n",
    "\n",
    "with open('../data/rosalind_perm.txt', 'r') as f:\n",
    "    inp = f.read().split()\n",
    "    n = int(inp[0])\n",
    "    \n",
    "    perm = list(itertools.permutations(range(1,n+1)))\n",
    "    print(len(perm))\n",
    "    for e in perm:\n",
    "        print(' '.join([str(a) for a in e]))"
   ]
  },
  {
   "cell_type": "markdown",
   "metadata": {
    "collapsed": true
   },
   "source": [
    "# Calculating Protein Mass"
   ]
  },
  {
   "cell_type": "code",
   "execution_count": null,
   "metadata": {
    "collapsed": false
   },
   "outputs": [],
   "source": [
    "monoisotopic_mass_table = {}\n",
    "with open('../data/monoisotopic_mass_table.txt', 'r') as f:\n",
    "    line = f.readline()\n",
    "    while line:\n",
    "        l = line.split()\n",
    "        monoisotopic_mass_table[l[0]] = float(l[1])\n",
    "        line = f.readline()\n",
    "\n",
    "with open('../data/rosalind_prtm.txt', 'r') as f:\n",
    "    inp = f.read()[:-1]\n",
    "    print(sum([monoisotopic_mass_table[e] for e in inp]))"
   ]
  },
  {
   "cell_type": "markdown",
   "metadata": {
    "collapsed": true
   },
   "source": [
    "# Locating Restriction Sites"
   ]
  },
  {
   "cell_type": "code",
   "execution_count": null,
   "metadata": {
    "collapsed": false
   },
   "outputs": [],
   "source": [
    "from Bio import SeqIO\n",
    "\n",
    "with open('../data/rosalind_revp.txt', 'r') as f:\n",
    "    records = SeqIO.parse(f, 'fasta')\n",
    "    seq = records.__next__().seq\n",
    "    seq_rev_comp = seq.reverse_complement()\n",
    "    seq = str(seq)\n",
    "    for i in range(2, len(seq)-1):\n",
    "        k = 2\n",
    "        length = 4\n",
    "        position = i - 1\n",
    "        while k <= 7 and i - k >= 0 and i + k <= len(seq):\n",
    "            if seq[i-k:i+k] == seq_rev_comp[len(seq)-i-k:len(seq)-i+k]:\n",
    "                print(position, length)\n",
    "                length += 2\n",
    "                position -= 1\n",
    "            else:\n",
    "                break\n",
    "            k += 1"
   ]
  },
  {
   "cell_type": "markdown",
   "metadata": {
    "collapsed": true
   },
   "source": [
    "# RNA Splicing"
   ]
  },
  {
   "cell_type": "code",
   "execution_count": null,
   "metadata": {
    "collapsed": false
   },
   "outputs": [],
   "source": [
    "from Bio import SeqIO\n",
    "import numpy as np\n",
    "import re\n",
    "\n",
    "# creating a dict of codon table\n",
    "dna_codon_table = {}\n",
    "with open('../data/dna_codon_table.txt', 'r') as f:\n",
    "    line = f.readline()\n",
    "    while line:\n",
    "        l = line.split()\n",
    "        for i in range(len(l)//2):\n",
    "            dna_codon_table[l[i*2]] = l[i*2+1]\n",
    "        line = f.readline()\n",
    "        \n",
    "with open('../data/rosalind_splc.txt', 'r') as f:\n",
    "    records = SeqIO.parse(f, 'fasta')\n",
    "    seq = str(records.__next__().seq)\n",
    "    intron_inds = []\n",
    "    for record in records:\n",
    "        sub_seq = str(record.seq)\n",
    "        for match in re.finditer(sub_seq, seq):\n",
    "            intron_inds.extend(list(range(match.start(), match.end())))\n",
    "    seq_arr = np.array(list(seq))\n",
    "    ind = np.ones(len(seq), dtype=bool)\n",
    "    ind[sorted(intron_inds)] = False\n",
    "    spliced_seq = seq_arr[ind]\n",
    "    \n",
    "    k = 0\n",
    "    ans = ''\n",
    "    while k+3 <= len(spliced_seq) and dna_codon_table[''.join(spliced_seq[k:k+3])] != 'Stop':\n",
    "        ans += dna_codon_table[''.join(spliced_seq[k:k+3])]\n",
    "        k += 3\n",
    "    print(ans)"
   ]
  },
  {
   "cell_type": "markdown",
   "metadata": {
    "collapsed": true
   },
   "source": [
    "# Enumerating k-mers Lexicographically"
   ]
  },
  {
   "cell_type": "code",
   "execution_count": null,
   "metadata": {
    "collapsed": false
   },
   "outputs": [],
   "source": [
    "import itertools\n",
    "\n",
    "with open('../data/rosalind_lexf.txt', 'r') as f:\n",
    "    symbols = f.readline().split()\n",
    "    n = int(f.readline())\n",
    "    [print(''.join(e)) for e in list(itertools.product(symbols, repeat=n))]"
   ]
  },
  {
   "cell_type": "markdown",
   "metadata": {},
   "source": [
    "# Longest Increasing Subsequence"
   ]
  },
  {
   "cell_type": "code",
   "execution_count": null,
   "metadata": {
    "collapsed": false
   },
   "outputs": [],
   "source": [
    "import math\n",
    "\n",
    "def longest_inc_sub(s):\n",
    "    P = [0 for _ in s]\n",
    "    M = P + [0]\n",
    "    L = 0\n",
    "    for i in range(len(s)):\n",
    "        # binary search\n",
    "        lo = 1\n",
    "        hi = L\n",
    "        while lo <= hi:\n",
    "            mid = math.ceil((lo+hi)/2)\n",
    "            if s[M[mid]] < s[i]:\n",
    "                lo = mid + 1\n",
    "            else:\n",
    "                hi = mid - 1\n",
    "        newL = lo\n",
    "        P[i] = M[newL-1]\n",
    "        M[newL] = i\n",
    "        if newL > L:\n",
    "            L = newL\n",
    "    S = [0 for _ in range(L)]\n",
    "    k = M[L]\n",
    "    for i in range(L)[::-1]:\n",
    "        S[i] = s[k]\n",
    "        k = P[k]\n",
    "    return S\n",
    "\n",
    "with open('../data/rosalind_lgis.txt', 'r') as f:\n",
    "    n = int(f.readline())\n",
    "    perms = [int(e) for e in f.readline().split()]\n",
    "    print(' '.join([str(e) for e in longest_inc_sub(perms)]))\n",
    "    print(' '.join([str(e) for e in longest_inc_sub(perms[::-1])[::-1]]))"
   ]
  },
  {
   "cell_type": "markdown",
   "metadata": {
    "collapsed": true
   },
   "source": [
    "# Genome Assembly as Shortest Superstring\n",
    "A string is a superstring for a given collection of smaller strings if it contains each of the smaller strings as a substring."
   ]
  },
  {
   "cell_type": "code",
   "execution_count": null,
   "metadata": {
    "collapsed": false
   },
   "outputs": [],
   "source": [
    "from Bio import SeqIO\n",
    "\n",
    "def findOverlappingPair(s1, s2, s):\n",
    "    max_ = -1\n",
    "    len1 = len(s1)\n",
    "    len2 = len(s2)\n",
    "    # check suffix of s1\n",
    "    for i in range(1, min(len1, len2)+1):\n",
    "        if s2[:i] == s1[-i:] and max_ < i:\n",
    "            max_ = i\n",
    "            s = s1 + s2[i:]\n",
    "    # check prefix of s1\n",
    "    for i in range(1, min(len1, len2)+1):\n",
    "        if s1[:i] == s2[-i:] and max_ < i:\n",
    "            max_ = i\n",
    "            s = s2 + s1[i:]\n",
    "    return max_, s\n",
    "        \n",
    "\n",
    "with open('../data/rosalind_long.txt', 'r') as f:\n",
    "    records = SeqIO.parse(f, 'fasta')\n",
    "    seqs = [str(record.seq) for record in records]\n",
    "    while len(seqs) > 1:\n",
    "        max_ = -1\n",
    "        l, r = 0, 0\n",
    "        s = ''\n",
    "        resStr = ''\n",
    "        for i in range(len(seqs)):\n",
    "            for j in range(i+1, len(seqs)):\n",
    "                res, s = findOverlappingPair(seqs[i], seqs[j], s)\n",
    "                if max_ < res:\n",
    "                    max_ = res\n",
    "                    resStr = s\n",
    "                    l, r = i, j\n",
    "        if max_ == -1:\n",
    "            seqs[0] += seqs[-1]\n",
    "        else:\n",
    "            seqs[l] = resStr\n",
    "            seqs[r] = seqs[-1]\n",
    "        seqs = seqs[:-1]\n",
    "                    \n",
    "    print(seqs[0])"
   ]
  },
  {
   "cell_type": "markdown",
   "metadata": {
    "collapsed": true
   },
   "source": [
    "# Perfect Matchings and RNA Secondary Structures"
   ]
  },
  {
   "cell_type": "code",
   "execution_count": null,
   "metadata": {
    "collapsed": false
   },
   "outputs": [],
   "source": [
    "from Bio import SeqIO\n",
    "import math\n",
    "\n",
    "with open('../data/rosalind_pmch.txt', 'r') as f:\n",
    "    records = SeqIO.parse(f, 'fasta')\n",
    "    seq = [str(record.seq) for record in records][0]\n",
    "    nc = seq.count('C')\n",
    "    na = seq.count('A')\n",
    "    print(math.factorial(nc) * math.factorial(na))"
   ]
  },
  {
   "cell_type": "markdown",
   "metadata": {
    "collapsed": true
   },
   "source": [
    "# Partial Permutations\n",
    "A partial permutation is an ordering of only k objects taken from a collection containing n objects (i.e., k≤n).  \n",
    "ex: (5,7,2) is an example of partial permutation of three of the first eight positive integers."
   ]
  },
  {
   "cell_type": "code",
   "execution_count": null,
   "metadata": {
    "collapsed": false
   },
   "outputs": [],
   "source": [
    "import math\n",
    "\n",
    "with open('../data/rosalind_pper.txt', 'r') as f:\n",
    "    inp = f.read().split()\n",
    "    n, k = int(inp[0]), int(inp[1])\n",
    "    print((math.factorial(n) // math.factorial(n-k)) % (10**6))"
   ]
  },
  {
   "cell_type": "code",
   "execution_count": null,
   "metadata": {
    "collapsed": true
   },
   "outputs": [],
   "source": []
  }
 ],
 "metadata": {
  "anaconda-cloud": {},
  "kernelspec": {
   "display_name": "Python [conda root]",
   "language": "python",
   "name": "conda-root-py"
  },
  "language_info": {
   "codemirror_mode": {
    "name": "ipython",
    "version": 3
   },
   "file_extension": ".py",
   "mimetype": "text/x-python",
   "name": "python",
   "nbconvert_exporter": "python",
   "pygments_lexer": "ipython3",
   "version": "3.5.2"
  }
 },
 "nbformat": 4,
 "nbformat_minor": 1
}
