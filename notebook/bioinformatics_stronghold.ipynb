{
 "cells": [
  {
   "cell_type": "markdown",
   "metadata": {},
   "source": [
    "# import"
   ]
  },
  {
   "cell_type": "code",
   "execution_count": 1,
   "metadata": {
    "collapsed": true
   },
   "outputs": [],
   "source": [
    "import numpy as np"
   ]
  },
  {
   "cell_type": "markdown",
   "metadata": {},
   "source": [
    "# Counting DNA Nucleotides"
   ]
  },
  {
   "cell_type": "code",
   "execution_count": 9,
   "metadata": {
    "collapsed": false
   },
   "outputs": [
    {
     "name": "stdout",
     "output_type": "stream",
     "text": [
      "232 229 238 213\n"
     ]
    }
   ],
   "source": [
    "# by myself\n",
    "a_cnt, c_cnt, g_cnt, t_cnt = 0,0,0,0\n",
    "with open('../data/rosalind_dna.txt', 'r') as f:\n",
    "    dna = f.read()\n",
    "    for letter in dna:\n",
    "        if letter == 'A':\n",
    "            a_cnt+=1\n",
    "        elif letter == 'C':\n",
    "            c_cnt+=1\n",
    "        elif letter == 'G':\n",
    "            g_cnt+=1\n",
    "        elif letter == 'T':\n",
    "            t_cnt+=1\n",
    "                \n",
    "print(a_cnt, c_cnt, g_cnt, t_cnt)"
   ]
  },
  {
   "cell_type": "markdown",
   "metadata": {},
   "source": [
    "# Transcribing DNA into RNA"
   ]
  },
  {
   "cell_type": "code",
   "execution_count": 13,
   "metadata": {
    "collapsed": false
   },
   "outputs": [
    {
     "name": "stdout",
     "output_type": "stream",
     "text": [
      "GCUACUGUAAUACAGUUUUUGUUAUAGGAGGCUUAAAGCUUACGUAAGGGUUGGAUCAUCCUCGUAUUAACGUGGGUAUAGCAUGUGGUCACACUCACGUUCAUCCGAUGUCGUUGGCUAGUCCACCCUCACCUGAUAUAUAGCCUGACCAUGCAAGCGUAAGACAAGAGGGGACAAAGGGCUGGGCACAUGCGCAGGGUCACUACUUGGGAGGUAUUCAUACAAAGUUAUUUUUAUUCUGAAUAUAGAUUGACCUUUGCCAUACCAGAUGCAGUAAGCGUUGCGGGCGUUAGGAACUGCUCCGCAUGCUUAAGUCAAAGACCAGCGUUGUGACACUUGUUUGUUCGUUGAUACAUUUUACGUACCGGACCACCCGAAUCCUGUGCCGAAGUCAACACUUUAGCUGUGGCCUGCCGGAGGCAUUCUUCCUUUGCUCUAUGCUGCUCGCUGCCAAUGCUGGGUGCGACUACUCGAGAACGGAUCGAACCGUAGGUCUAUGACCAAGCUCUCCCCAGUGGCUGUCUUCGUCGGAGCGAGAUUAUACGAGUAUCGAUUGUAUUCUAUCUCAUCGACCUGAUCAGUUGCCUCCAGAAAUGUUUUGAGCAUACCCAGGAUAAUUCACUUUUCCACGCACGGCAUGAACCAAUGCGUUGUGUUGUCCCUAAAAGGACCAGCUACAACUGAUACGGCAUAACACACAUGCCCCUCAGCCUUAGGCCUGGUUCCCGAGUCUGGCAGAGGUUUCAGAGGGGGUAUGAACUCACUUAUUGGAUGUACGGGAUGGAAUGACAUGUGUUCAGUUAGCGCUCUACAUAAUGGACCGUGUAUGAGACUAGCUGACUAGGAUUCUUAAGGCUAGUUCAACGGUGACCGUCCCAUAGUCACAACAGACUCAGAACAGAG\n",
      "\n"
     ]
    }
   ],
   "source": [
    "# by myself\n",
    "rna = ''\n",
    "with open('../data/rosalind_rna.txt', 'r') as f:\n",
    "    dna = f.read()\n",
    "    rna = dna.replace('T', 'U')\n",
    "\n",
    "print(rna)"
   ]
  },
  {
   "cell_type": "markdown",
   "metadata": {
    "collapsed": true
   },
   "source": [
    "# Complementing a Strand of DNA"
   ]
  },
  {
   "cell_type": "code",
   "execution_count": 1,
   "metadata": {
    "collapsed": false
   },
   "outputs": [
    {
     "name": "stdout",
     "output_type": "stream",
     "text": [
      "\n",
      "CCATTGCCCTTATCCCTCGCCAGCATCCCAGCAGACAACCGCATGATTCCTATCGGCGGTAGGGATTTCCTTAGCCCGCCAGGCCTAACTGTCTCAAGAGGCACTCTTCTCAGATGGCGCCTGGACCCTCGTTTCCTGGCGGGGTGTAGCGTCCAAACGACAACCATGGTATGTTGTTTCCGTCTTTCACAATTCGTTGGGATGGATTACAAAGAGTAATCAGTACCTCTGCCACCAAGTCGGTTGACGGTCACAAACCGGGTGATTCCTGAGCCACCTGCCACCCTGATTCTAGAACGTTTCGGATCAACTGTTTGGTGAGTCTAACGTCGGGCATATATGAGAACTTTATCGCCCTGGGACATGCCTAAATCTCTGCACACACCGGGGAAGCCGCGGAATATATGCCAGGAAGAACTGTACCGTAGGCTGGATCGCCAACCTTTACCAATTCTGTGGATAGGGAAGATCGCCGCCGACTCCTCTACGCTGAAGGTGATGAAATCGGACTGCTTTAACATAAGAAGAGGTAGAACACGTCAACTTGGCGAGAGTCCACACTACCGCGGCCATCGTGGTGGCTCGTTTCGGTACGCTACCACCATCTAGGTAGCATCGTCGAAACTACCCAGTAGATTCGATGGTTTACTGATAGCACGCTACGATTGCCTTCGTCACGCGCTCAATGCTGTTCTGGACCGGCAAGAGGCCGCGCAGAGAGACGGCGGCAATTAAAATAAACACTGGCCGCAGCCACATAAGGGAAGCGCCGACCTCGGCGTCCATGATAAAGCGTCTACCTTCGTACCGGGTGTCGCCCGTGAAGCGGAGTTACTGGACATAGGGGAATTCCGCTTAAGATGGAAATACTTGATGCGAATAGTCAGCCTGTTTGCAAAAGATGGAGATTAG\n"
     ]
    }
   ],
   "source": [
    "# by myself\n",
    "reverse_complement = ''\n",
    "with open('../data/rosalind_revc.txt', 'r') as f:\n",
    "    dna = f.read()\n",
    "    reverse_complement = dna[::-1].translate(str.maketrans('ATGC', 'TACG'))\n",
    "    \n",
    "print(reverse_complement)"
   ]
  },
  {
   "cell_type": "markdown",
   "metadata": {
    "collapsed": true
   },
   "source": [
    "# Rabbits and Recurrence Relations"
   ]
  },
  {
   "cell_type": "code",
   "execution_count": 6,
   "metadata": {
    "collapsed": false
   },
   "outputs": [
    {
     "name": "stdout",
     "output_type": "stream",
     "text": [
      "22906492245\n"
     ]
    }
   ],
   "source": [
    "# by myself\n",
    "# 1: a pair of 2 children -> 1\n",
    "# 2: a pair of 2 adults -> 1\n",
    "# 3: a pair of 2 adults and k pair of 2 children -> k+1\n",
    "# ...\n",
    "# F_n: # of alive rabbits\n",
    "# F_n = F_(n-1) + k * F_(n-2)\n",
    "\n",
    "with open('../data/rosalind_fib.txt', 'r') as f:\n",
    "    inp = f.read().split()\n",
    "    n, k = int(inp[0]), int(inp[1])\n",
    "    dp = [0 for _ in range(n)]\n",
    "    dp[0] = 1\n",
    "    dp[1] = 1\n",
    "    for i in range(2, n):\n",
    "        dp[i] = dp[i-1] + k * dp[i-2]\n",
    "    print(dp[n-1])  "
   ]
  },
  {
   "cell_type": "code",
   "execution_count": null,
   "metadata": {
    "collapsed": true
   },
   "outputs": [],
   "source": [
    "# by others\n",
    "def fib(n, k):\n",
    "    a, b = 1, 1\n",
    "    for i in range(2, n):\n",
    "        a, b = b, k*a + b\n",
    "    return b"
   ]
  },
  {
   "cell_type": "markdown",
   "metadata": {},
   "source": [
    "# Computing GC Content"
   ]
  },
  {
   "cell_type": "code",
   "execution_count": 6,
   "metadata": {
    "collapsed": false
   },
   "outputs": [
    {
     "name": "stdout",
     "output_type": "stream",
     "text": [
      "Rosalind_1803\n",
      "52.226233453670275\n"
     ]
    }
   ],
   "source": [
    "with open('../data/rosalind_gc.txt', 'r') as f:\n",
    "    max_gc = -1\n",
    "    max_name = ''\n",
    "    dna = 'A'\n",
    "    line = f.readline()\n",
    "    while line:\n",
    "        while line and line[0] != '>':\n",
    "            dna += line[:-1]\n",
    "            line = f.readline()\n",
    "        \n",
    "        gorc = [1 if l in 'GC' else 0 for l in dna]\n",
    "        gc = sum(gorc) / len(gorc) * 100\n",
    "        if gc > max_gc:\n",
    "            max_gc = gc\n",
    "            max_name = name\n",
    "        \n",
    "        if line:\n",
    "            name = line[1:-1]\n",
    "            dna = ''\n",
    "            line = f.readline()\n",
    "\n",
    "    print(max_name)\n",
    "    print(max_gc)"
   ]
  },
  {
   "cell_type": "code",
   "execution_count": null,
   "metadata": {
    "collapsed": true
   },
   "outputs": [],
   "source": []
  }
 ],
 "metadata": {
  "anaconda-cloud": {},
  "kernelspec": {
   "display_name": "Python [conda root]",
   "language": "python",
   "name": "conda-root-py"
  },
  "language_info": {
   "codemirror_mode": {
    "name": "ipython",
    "version": 3
   },
   "file_extension": ".py",
   "mimetype": "text/x-python",
   "name": "python",
   "nbconvert_exporter": "python",
   "pygments_lexer": "ipython3",
   "version": "3.5.2"
  }
 },
 "nbformat": 4,
 "nbformat_minor": 1
}
