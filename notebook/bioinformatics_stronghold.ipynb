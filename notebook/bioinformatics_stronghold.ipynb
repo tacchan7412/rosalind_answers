{
 "cells": [
  {
   "cell_type": "markdown",
   "metadata": {},
   "source": [
    "# import"
   ]
  },
  {
   "cell_type": "code",
   "execution_count": 1,
   "metadata": {
    "collapsed": true
   },
   "outputs": [],
   "source": [
    "import numpy as np"
   ]
  },
  {
   "cell_type": "markdown",
   "metadata": {},
   "source": [
    "# Counting DNA Nucleotides"
   ]
  },
  {
   "cell_type": "code",
   "execution_count": 9,
   "metadata": {
    "collapsed": false
   },
   "outputs": [
    {
     "name": "stdout",
     "output_type": "stream",
     "text": [
      "232 229 238 213\n"
     ]
    }
   ],
   "source": [
    "a_cnt, c_cnt, g_cnt, t_cnt = 0,0,0,0\n",
    "with open('../data/rosalind_dna.txt', 'r') as f:\n",
    "    dna = f.read()\n",
    "    for letter in dna:\n",
    "        if letter == 'A':\n",
    "            a_cnt+=1\n",
    "        elif letter == 'C':\n",
    "            c_cnt+=1\n",
    "        elif letter == 'G':\n",
    "            g_cnt+=1\n",
    "        elif letter == 'T':\n",
    "            t_cnt+=1\n",
    "                \n",
    "print(a_cnt, c_cnt, g_cnt, t_cnt)"
   ]
  },
  {
   "cell_type": "markdown",
   "metadata": {},
   "source": [
    "# Transcribing DNA into RNA"
   ]
  },
  {
   "cell_type": "code",
   "execution_count": 13,
   "metadata": {
    "collapsed": false
   },
   "outputs": [
    {
     "name": "stdout",
     "output_type": "stream",
     "text": [
      "GCUACUGUAAUACAGUUUUUGUUAUAGGAGGCUUAAAGCUUACGUAAGGGUUGGAUCAUCCUCGUAUUAACGUGGGUAUAGCAUGUGGUCACACUCACGUUCAUCCGAUGUCGUUGGCUAGUCCACCCUCACCUGAUAUAUAGCCUGACCAUGCAAGCGUAAGACAAGAGGGGACAAAGGGCUGGGCACAUGCGCAGGGUCACUACUUGGGAGGUAUUCAUACAAAGUUAUUUUUAUUCUGAAUAUAGAUUGACCUUUGCCAUACCAGAUGCAGUAAGCGUUGCGGGCGUUAGGAACUGCUCCGCAUGCUUAAGUCAAAGACCAGCGUUGUGACACUUGUUUGUUCGUUGAUACAUUUUACGUACCGGACCACCCGAAUCCUGUGCCGAAGUCAACACUUUAGCUGUGGCCUGCCGGAGGCAUUCUUCCUUUGCUCUAUGCUGCUCGCUGCCAAUGCUGGGUGCGACUACUCGAGAACGGAUCGAACCGUAGGUCUAUGACCAAGCUCUCCCCAGUGGCUGUCUUCGUCGGAGCGAGAUUAUACGAGUAUCGAUUGUAUUCUAUCUCAUCGACCUGAUCAGUUGCCUCCAGAAAUGUUUUGAGCAUACCCAGGAUAAUUCACUUUUCCACGCACGGCAUGAACCAAUGCGUUGUGUUGUCCCUAAAAGGACCAGCUACAACUGAUACGGCAUAACACACAUGCCCCUCAGCCUUAGGCCUGGUUCCCGAGUCUGGCAGAGGUUUCAGAGGGGGUAUGAACUCACUUAUUGGAUGUACGGGAUGGAAUGACAUGUGUUCAGUUAGCGCUCUACAUAAUGGACCGUGUAUGAGACUAGCUGACUAGGAUUCUUAAGGCUAGUUCAACGGUGACCGUCCCAUAGUCACAACAGACUCAGAACAGAG\n",
      "\n"
     ]
    }
   ],
   "source": [
    "rna = ''\n",
    "with open('../data/rosalind_rna.txt', 'r') as f:\n",
    "    dna = f.read()\n",
    "    rna = dna.replace('T', 'U')\n",
    "\n",
    "print(rna)"
   ]
  },
  {
   "cell_type": "markdown",
   "metadata": {
    "collapsed": true
   },
   "source": [
    "# Complementing a Strand of DNA"
   ]
  },
  {
   "cell_type": "code",
   "execution_count": 1,
   "metadata": {
    "collapsed": false
   },
   "outputs": [
    {
     "name": "stdout",
     "output_type": "stream",
     "text": [
      "\n",
      "CCATTGCCCTTATCCCTCGCCAGCATCCCAGCAGACAACCGCATGATTCCTATCGGCGGTAGGGATTTCCTTAGCCCGCCAGGCCTAACTGTCTCAAGAGGCACTCTTCTCAGATGGCGCCTGGACCCTCGTTTCCTGGCGGGGTGTAGCGTCCAAACGACAACCATGGTATGTTGTTTCCGTCTTTCACAATTCGTTGGGATGGATTACAAAGAGTAATCAGTACCTCTGCCACCAAGTCGGTTGACGGTCACAAACCGGGTGATTCCTGAGCCACCTGCCACCCTGATTCTAGAACGTTTCGGATCAACTGTTTGGTGAGTCTAACGTCGGGCATATATGAGAACTTTATCGCCCTGGGACATGCCTAAATCTCTGCACACACCGGGGAAGCCGCGGAATATATGCCAGGAAGAACTGTACCGTAGGCTGGATCGCCAACCTTTACCAATTCTGTGGATAGGGAAGATCGCCGCCGACTCCTCTACGCTGAAGGTGATGAAATCGGACTGCTTTAACATAAGAAGAGGTAGAACACGTCAACTTGGCGAGAGTCCACACTACCGCGGCCATCGTGGTGGCTCGTTTCGGTACGCTACCACCATCTAGGTAGCATCGTCGAAACTACCCAGTAGATTCGATGGTTTACTGATAGCACGCTACGATTGCCTTCGTCACGCGCTCAATGCTGTTCTGGACCGGCAAGAGGCCGCGCAGAGAGACGGCGGCAATTAAAATAAACACTGGCCGCAGCCACATAAGGGAAGCGCCGACCTCGGCGTCCATGATAAAGCGTCTACCTTCGTACCGGGTGTCGCCCGTGAAGCGGAGTTACTGGACATAGGGGAATTCCGCTTAAGATGGAAATACTTGATGCGAATAGTCAGCCTGTTTGCAAAAGATGGAGATTAG\n"
     ]
    }
   ],
   "source": [
    "reverse_complement = ''\n",
    "with open('../data/rosalind_revc.txt', 'r') as f:\n",
    "    dna = f.read()\n",
    "    reverse_complement = dna[::-1].translate(str.maketrans('ATGC', 'TACG'))\n",
    "    \n",
    "print(reverse_complement)"
   ]
  },
  {
   "cell_type": "code",
   "execution_count": null,
   "metadata": {
    "collapsed": true
   },
   "outputs": [],
   "source": []
  }
 ],
 "metadata": {
  "anaconda-cloud": {},
  "kernelspec": {
   "display_name": "Python [conda root]",
   "language": "python",
   "name": "conda-root-py"
  },
  "language_info": {
   "codemirror_mode": {
    "name": "ipython",
    "version": 3
   },
   "file_extension": ".py",
   "mimetype": "text/x-python",
   "name": "python",
   "nbconvert_exporter": "python",
   "pygments_lexer": "ipython3",
   "version": "3.5.2"
  }
 },
 "nbformat": 4,
 "nbformat_minor": 1
}
